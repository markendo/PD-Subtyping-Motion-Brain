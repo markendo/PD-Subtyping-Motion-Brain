{
 "cells": [
  {
   "cell_type": "markdown",
   "metadata": {},
   "source": [
    "# Notebook for predicting motor impairment severity using functional connectivity data\n",
    "\n",
    "In this notebook, we train a simple MLP to predict motor impairment using either subnetworks or individual connections from fMRI data."
   ]
  },
  {
   "cell_type": "markdown",
   "metadata": {},
   "source": [
    "## Imports"
   ]
  },
  {
   "cell_type": "code",
   "execution_count": 1,
   "metadata": {},
   "outputs": [],
   "source": [
    "from utils.data_loading import load_clinical_data, load_fmri_data, select_subnetwork\n",
    "from utils.model import train_eval\n",
    "import numpy as np\n",
    "from scipy.stats import wilcoxon\n",
    "import warnings\n",
    "\n",
    "warnings.filterwarnings(\"ignore\")"
   ]
  },
  {
   "cell_type": "markdown",
   "metadata": {},
   "source": [
    "## Directories"
   ]
  },
  {
   "cell_type": "code",
   "execution_count": 2,
   "metadata": {},
   "outputs": [],
   "source": [
    "clinical_data_path = '../data/private_data/clinical_data.csv'\n",
    "gait_scores_path = '../data/private_data/gait_scores.csv'\n",
    "fc_matrices_dir = '../data/private_data/fc_matrices/'"
   ]
  },
  {
   "cell_type": "markdown",
   "metadata": {},
   "source": [
    "## Predict motor impairment from FC (rs-fMRI) data\n",
    "\n",
    "We use leave-one-out validation and average results across 20 runs."
   ]
  },
  {
   "cell_type": "code",
   "execution_count": 3,
   "metadata": {
    "scrolled": true
   },
   "outputs": [
    {
     "name": "stdout",
     "output_type": "stream",
     "text": [
      "whole-brain stats - auc mean: 0.495, f1 mean: 0.315, precision mean: 0.296, recall mean: 0.340\n",
      "result sig: 0.8441028594970703\n",
      "pallidal-sensorimotor stats - auc mean: 0.427, f1 mean: 0.313, precision mean: 0.330, recall mean: 0.322\n",
      "result sig: 0.9999475479125977\n",
      "cerebellar-motor stats - auc mean: 0.519, f1 mean: 0.323, precision mean: 0.340, recall mean: 0.355\n",
      "result sig: 0.0291290283203125\n",
      "cerebellar-prefrontal stats - auc mean: 0.628, f1 mean: 0.402, precision mean: 0.410, recall mean: 0.414\n",
      "result sig: 9.5367431640625e-07\n",
      "top-cerebellar-prefrontal stats - auc mean: 0.735, f1 mean: 0.462, precision mean: 0.530, recall mean: 0.571\n",
      "result sig: 9.5367431640625e-07\n",
      "top-whole-brain stats - auc mean: 0.742, f1 mean: 0.478, precision mean: 0.488, recall mean: 0.605\n",
      "result sig: 9.5367431640625e-07\n"
     ]
    }
   ],
   "source": [
    "clinical_data = load_clinical_data(clinical_data_path, gait_scores_path)\n",
    "fmri_data = load_fmri_data(fc_matrices_dir)\n",
    "networks = ['whole-brain','pallidal-sensorimotor', 'cerebellar-motor', 'cerebellar-prefrontal', 'top-cerebellar-prefrontal', 'top-whole-brain']\n",
    "for network in networks:\n",
    "    use_random_connections = False\n",
    "    if network == 'whole-brain':\n",
    "        network_data = fmri_data\n",
    "    else:\n",
    "        network_data = select_subnetwork(fmri_data, clinical_data, network)\n",
    "    \n",
    "    X = []\n",
    "    y = []\n",
    "    for _, row in clinical_data.iterrows():\n",
    "        X.append(network_data[row['PID']])\n",
    "        y.append(row['majority vote'] - 1)\n",
    "    X_np = np.array(X)\n",
    "    y_np = np.array(y)\n",
    "    auc_scores, f1_scores, precision_scores, recall_scores = train_eval(X_np, y_np, use_random_connections)\n",
    "    \n",
    "    print(f'{network} stats - auc mean: {np.mean(auc_scores):.3f}, f1 mean: {np.mean(f1_scores):.3f}, precision mean: {np.mean(precision_scores):.3f}, recall mean: {np.mean(recall_scores):.3f}')\n",
    "    wilcoxon_output = wilcoxon(auc_scores, [0.5] * len(auc_scores), alternative='greater')\n",
    "    print(f'result sig: {wilcoxon_output.pvalue}')"
   ]
  },
  {
   "cell_type": "code",
   "execution_count": null,
   "metadata": {},
   "outputs": [],
   "source": []
  }
 ],
 "metadata": {
  "kernelspec": {
   "display_name": "Python 3",
   "language": "python",
   "name": "python3"
  },
  "language_info": {
   "codemirror_mode": {
    "name": "ipython",
    "version": 3
   },
   "file_extension": ".py",
   "mimetype": "text/x-python",
   "name": "python",
   "nbconvert_exporter": "python",
   "pygments_lexer": "ipython3",
   "version": "3.7.9"
  }
 },
 "nbformat": 4,
 "nbformat_minor": 4
}
