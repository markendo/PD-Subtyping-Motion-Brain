{
 "cells": [
  {
   "cell_type": "markdown",
   "metadata": {},
   "source": [
    "# Notebook for predicting motor impairment severity using functional connectivity data\n",
    "\n",
    "In this notebook, we train a simple MLP to predict motor impairment using either subnetworks or individual connections from fMRI data."
   ]
  },
  {
   "cell_type": "markdown",
   "metadata": {},
   "source": [
    "## Imports"
   ]
  },
  {
   "cell_type": "code",
   "execution_count": 5,
   "metadata": {},
   "outputs": [],
   "source": [
    "from utils.data_loading import load_clinical_data, load_fmri_data, select_subnetwork\n",
    "from utils.model import train_eval\n",
    "import numpy as np\n",
    "from scipy.stats import wilcoxon"
   ]
  },
  {
   "cell_type": "markdown",
   "metadata": {},
   "source": [
    "## Directories"
   ]
  },
  {
   "cell_type": "code",
   "execution_count": 6,
   "metadata": {},
   "outputs": [],
   "source": [
    "clinical_data_path = '../data/private_data/clinical_data.csv'\n",
    "gait_scores_path = '../data/private_data/gait_scores.csv'\n",
    "fc_matrices_dir = '../data/private_data/fc_matrices/'"
   ]
  },
  {
   "cell_type": "markdown",
   "metadata": {},
   "source": [
    "## Predict motor impairment from FC (rs-fMRI) data\n",
    "\n",
    "We use leave-one-out validation and average results across 20 runs."
   ]
  },
  {
   "cell_type": "code",
   "execution_count": 8,
   "metadata": {
    "scrolled": true
   },
   "outputs": [
    {
     "name": "stdout",
     "output_type": "stream",
     "text": [
      "random stats - auc mean: 0.455, f1 mean: 0.295, precision mean: 0.294, recall mean: 0.300\n",
      "pallidal-sensorimotor stats - auc mean: 0.449, f1 mean: 0.328, precision mean: 0.346, recall mean: 0.346\n",
      "result sig: 0.762547492980957\n",
      "cerebellar-motor stats - auc mean: 0.521, f1 mean: 0.331, precision mean: 0.343, recall mean: 0.357\n",
      "result sig: 6.67572021484375e-06\n",
      "cerebellar-prefrontal stats - auc mean: 0.635, f1 mean: 0.386, precision mean: 0.394, recall mean: 0.391\n",
      "result sig: 9.5367431640625e-07\n",
      "top-cerebellar-prefrontal stats - auc mean: 0.724, f1 mean: 0.460, precision mean: 0.508, recall mean: 0.582\n",
      "result sig: 9.5367431640625e-07\n"
     ]
    },
    {
     "name": "stderr",
     "output_type": "stream",
     "text": [
      "/deep/u/markendo/anaconda3/envs/myenv/lib/python3.7/site-packages/scipy/stats/stats.py:3845: PearsonRConstantInputWarning: An input array is constant; the correlation coefficent is not defined.\n",
      "  warnings.warn(PearsonRConstantInputWarning())\n"
     ]
    },
    {
     "name": "stdout",
     "output_type": "stream",
     "text": [
      "top-whole-brain stats - auc mean: 0.738, f1 mean: 0.481, precision mean: 0.495, recall mean: 0.597\n",
      "result sig: 9.5367431640625e-07\n"
     ]
    }
   ],
   "source": [
    "clinical_data = load_clinical_data(clinical_data_path, gait_scores_path)\n",
    "fmri_data = load_fmri_data(fc_matrices_dir)\n",
    "networks = ['random', 'pallidal-sensorimotor', 'cerebellar-motor', 'cerebellar-prefrontal', 'top-cerebellar-prefrontal', 'top-whole-brain']\n",
    "for network in networks:\n",
    "    use_random_connections = False\n",
    "    if network != 'random':\n",
    "        network_data = select_subnetwork(fmri_data, clinical_data, network)\n",
    "    else:\n",
    "        network_data = fmri_data\n",
    "        use_random_connections = True\n",
    "        \n",
    "    X = []\n",
    "    y = []\n",
    "    for _, row in clinical_data.iterrows():\n",
    "        X.append(network_data[row['PID']])\n",
    "        y.append(row['majority vote'] - 1)\n",
    "    X_np = np.array(X)\n",
    "    y_np = np.array(y)\n",
    "    auc_scores, f1_scores, precision_scores, recall_scores = train_eval(X_np, y_np, use_random_connections)\n",
    "    \n",
    "    print(f'{network} stats - auc mean: {np.mean(auc_scores):.3f}, f1 mean: {np.mean(f1_scores):.3f}, precision mean: {np.mean(precision_scores):.3f}, recall mean: {np.mean(recall_scores):.3f}')\n",
    "    if network == 'random':\n",
    "        random_auc = np.mean(auc_scores)\n",
    "    else:\n",
    "        wilcoxon_output = wilcoxon(auc_scores, [random_auc] * len(auc_scores), alternative='greater')\n",
    "        print(f'result sig: {wilcoxon_output.pvalue}')"
   ]
  }
 ],
 "metadata": {
  "kernelspec": {
   "display_name": "Python 3 (ipykernel)",
   "language": "python",
   "name": "python3"
  },
  "language_info": {
   "codemirror_mode": {
    "name": "ipython",
    "version": 3
   },
   "file_extension": ".py",
   "mimetype": "text/x-python",
   "name": "python",
   "nbconvert_exporter": "python",
   "pygments_lexer": "ipython3",
   "version": "3.7.9"
  }
 },
 "nbformat": 4,
 "nbformat_minor": 4
}
